{
 "cells": [
  {
   "cell_type": "code",
   "execution_count": 41,
   "id": "058ac2bc-63af-47e1-83e8-bb0d55bb04f0",
   "metadata": {},
   "outputs": [],
   "source": [
    "import mlx.core as mx"
   ]
  },
  {
   "cell_type": "markdown",
   "id": "575cf0dc-131f-42be-8d6a-81e4cb241b5a",
   "metadata": {},
   "source": [
    "## Girard-Hutchinson Estimator"
   ]
  },
  {
   "cell_type": "code",
   "execution_count": 42,
   "id": "218eda84-da03-4633-b0ff-cb31a6ae772b",
   "metadata": {},
   "outputs": [],
   "source": [
    "# we must have that $E[xx^T] = I$. We can use (0, 1) Gaussian random vectors or Rademacher random vectors\n",
    "def gaussian_random_vec(shape):\n",
    "    # by default mx.normal is (0,1). So this is mostly pointless!\n",
    "    sampled_rv = mx.random.normal(shape=shape, dtype=mx.float32)\n",
    "    \n",
    "    return sampled_rv\n",
    "\n",
    "# The idea for Rademacher random vectors is from: https://docs.backpack.pt/en/master/use_cases/example_trace_estimation.html\n",
    "def rademacher_random_vec(shape):\n",
    "    rand = mx.random.bernoulli(p=0.5, shape=shape)\n",
    "\n",
    "    sampled_rv = 2 * rand.astype(mx.float32) - 1\n",
    "\n",
    "    return sampled_rv\n",
    "\n",
    "\n",
    "# TODO: make it a key? thingy for which distribution to use\n",
    "def hutch_tr(mat, num_samples):\n",
    "\n",
    "    # collect trace estimates\n",
    "\n",
    "    n, _ = mat.shape\n",
    "    tr_ests = mx.zeros(shape=num_samples)\n",
    "    for i in range(num_samples):\n",
    "        x = rademacher_random_vec(shape=(1, n))\n",
    "        hutch_est = mx.matmul(x, mx.matmul(mat, mx.transpose(x)))\n",
    "        tr_ests[i] = (hutch_est)\n",
    "\n",
    "    return mx.mean(tr_ests)\n",
    "        \n",
    "    "
   ]
  },
  {
   "cell_type": "code",
   "execution_count": 43,
   "id": "b5200d1f-8ce5-4c93-9b1c-e5fbd528c748",
   "metadata": {},
   "outputs": [],
   "source": [
    "A = mx.random.randint(low=-100,high=100,shape=(100, 100),dtype=mx.int16)"
   ]
  },
  {
   "cell_type": "code",
   "execution_count": 44,
   "id": "e172a9bb-0543-4632-be03-87163d7a50d1",
   "metadata": {},
   "outputs": [
    {
     "data": {
      "text/plain": [
       "array(326, dtype=int16)"
      ]
     },
     "execution_count": 44,
     "metadata": {},
     "output_type": "execute_result"
    }
   ],
   "source": [
    "A_ground_truth = mx.trace(A)\n",
    "A_ground_truth"
   ]
  },
  {
   "cell_type": "code",
   "execution_count": null,
   "id": "8d56ae90-9d12-4857-bb18-29a5d17faf67",
   "metadata": {},
   "outputs": [],
   "source": [
    "A_est = hutch_tr(A, 100000)\n",
    "A_est"
   ]
  },
  {
   "cell_type": "code",
   "execution_count": null,
   "id": "a763aa21-c7e7-4620-b2ea-f2e8079ebf29",
   "metadata": {},
   "outputs": [],
   "source": []
  }
 ],
 "metadata": {
  "kernelspec": {
   "display_name": "hutch",
   "language": "python",
   "name": "hutch"
  },
  "language_info": {
   "codemirror_mode": {
    "name": "ipython",
    "version": 3
   },
   "file_extension": ".py",
   "mimetype": "text/x-python",
   "name": "python",
   "nbconvert_exporter": "python",
   "pygments_lexer": "ipython3",
   "version": "3.12.4"
  }
 },
 "nbformat": 4,
 "nbformat_minor": 5
}
