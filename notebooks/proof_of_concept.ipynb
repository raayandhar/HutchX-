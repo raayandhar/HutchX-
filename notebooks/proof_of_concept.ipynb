{
 "cells": [
  {
   "cell_type": "code",
   "execution_count": 3,
   "id": "058ac2bc-63af-47e1-83e8-bb0d55bb04f0",
   "metadata": {},
   "outputs": [],
   "source": [
    "import mlx.core as mx"
   ]
  },
  {
   "cell_type": "markdown",
   "id": "575cf0dc-131f-42be-8d6a-81e4cb241b5a",
   "metadata": {},
   "source": [
    "## Girard-Hutchinson Estimator"
   ]
  },
  {
   "cell_type": "code",
   "execution_count": 4,
   "id": "218eda84-da03-4633-b0ff-cb31a6ae772b",
   "metadata": {},
   "outputs": [],
   "source": [
    "# we must have that $E[xx^T] = I$. We can use (0, 1) Gaussian random vectors or Rademacher random vectors\n",
    "def gaussian_random(shape):\n",
    "    # by default mx.normal is (0,1). So this is mostly pointless!\n",
    "    sampled_rv = mx.random.normal(shape=shape, dtype=mx.float32)\n",
    "    \n",
    "    return sampled_rv\n",
    "\n",
    "# The idea for Rademacher random vectors is from: https://docs.backpack.pt/en/master/use_cases/example_trace_estimation.html\n",
    "def rademacher_random(shape):\n",
    "    rand = mx.random.bernoulli(p=0.5, shape=shape)\n",
    "\n",
    "    sampled_rv = 2 * rand.astype(mx.float32) - 1\n",
    "\n",
    "    return sampled_rv\n",
    "\n",
    "\n",
    "# TODO: make it a key? thingy for which distribution to use\n",
    "def hutch_tr(mat, num_queries):\n",
    "\n",
    "    # collect trace estimates\n",
    "\n",
    "    n, _ = mat.shape\n",
    "    tr_ests = mx.zeros(shape=num_queries)\n",
    "    # This is really ugly and slow. Just directly project!\n",
    "    for i in range(num_queries):\n",
    "        x = rademacher_random(shape=(1, n))\n",
    "        hutch_est = mx.matmul(x, mx.matmul(mat, mx.transpose(x)))\n",
    "        tr_ests[i] = (hutch_est)\n",
    "\n",
    "    return mx.mean(tr_ests)\n",
    "        \n",
    "    "
   ]
  },
  {
   "cell_type": "code",
   "execution_count": 5,
   "id": "e172a9bb-0543-4632-be03-87163d7a50d1",
   "metadata": {},
   "outputs": [
    {
     "data": {
      "text/plain": [
       "array(9927.53, dtype=float32)"
      ]
     },
     "execution_count": 5,
     "metadata": {},
     "output_type": "execute_result"
    }
   ],
   "source": [
    "B = mx.random.normal(shape=(100,100))\n",
    "A = mx.matmul(mx.transpose(B), B)\n",
    "A_ground_truth = mx.trace(A)\n",
    "A_ground_truth"
   ]
  },
  {
   "cell_type": "code",
   "execution_count": 6,
   "id": "8d56ae90-9d12-4857-bb18-29a5d17faf67",
   "metadata": {},
   "outputs": [
    {
     "data": {
      "text/plain": [
       "array(9940.48, dtype=float32)"
      ]
     },
     "execution_count": 6,
     "metadata": {},
     "output_type": "execute_result"
    }
   ],
   "source": [
    "A_est = hutch_tr(A, 10)\n",
    "A_est"
   ]
  },
  {
   "cell_type": "markdown",
   "id": "9318043a-774c-40ba-949a-52de80cdf739",
   "metadata": {},
   "source": [
    "## Hutch++ Estimator"
   ]
  },
  {
   "cell_type": "code",
   "execution_count": 1,
   "id": "f6b433d8-8b2d-49fc-8582-e0cc3879339c",
   "metadata": {},
   "outputs": [],
   "source": [
    "\"\"\"\n",
    "Recall that the rough design of the algorithm is as follows:\n",
    "(credit to Dr. Meyer on his blog: ram900.com)\n",
    "1. Find a good low-rank approximation $\\tilde{A}_k$\n",
    "2. Notice that tr($A$) = tr($\\tilde{A}_k$) + tr($A - \\tilde{A}_k$)\n",
    "3. Compute tr($\\tilde{A}_k$) exactly\n",
    "4. Approximate tr($A - \\tilde{A}_k$) with Hutchinson's Estimator\n",
    "5. Returch Hutch++: tr($\\tilde{A}_k$) + $H_l(A - \\tilde{A}_k)$\n",
    "\"\"\"\n",
    "\n",
    "\n",
    "# somewhere, this kernel is dying.\n",
    "# new project: add support for general QR!\n",
    "def hutchpp_tr(mat, num_queries):\n",
    "    n, _ = mat.shape\n",
    "\n",
    "    # sample S \\in R^{n \\times (k + p) with N(0, 1) entries. Let Q be any orthonormal basis for AS.\n",
    "    # we are saying that num_queries // 3 = p + k, i.e., 3k+1 since p = 2k+1. \n",
    "    # Then obviously higher num_queries leads to better estimate\n",
    "    \n",
    "    S = gaussian_random((n, num_queries // 3))\n",
    "    x, z = S.shape\n",
    "    m = x - z\n",
    "    G = mx.zeros(shape=(n, m))\n",
    "    M = mx.concatenate([mx.matmul(mat, S), G], axis=1)\n",
    "    Q, _ = mx.linalg.qr(M)\n",
    "    hutch = mx.trace(mx.matmul(mx.transpose(Q), mx.matmul(mat, Q)))\n",
    "    hutch += hutch_tr(mx.matmul(mx.identity(n) - mx.matmul(Q, mx.transpose(Q)), mat), num_queries)\n",
    "\n",
    "    return hutch\n",
    "    "
   ]
  },
  {
   "cell_type": "code",
   "execution_count": 2,
   "id": "c4fd6251-862e-4a9c-8176-5d899c08045e",
   "metadata": {},
   "outputs": [
    {
     "ename": "NameError",
     "evalue": "name 'A' is not defined",
     "output_type": "error",
     "traceback": [
      "\u001b[0;31m---------------------------------------------------------------------------\u001b[0m",
      "\u001b[0;31mNameError\u001b[0m                                 Traceback (most recent call last)",
      "Cell \u001b[0;32mIn[2], line 1\u001b[0m\n\u001b[0;32m----> 1\u001b[0m A_better_est \u001b[38;5;241m=\u001b[39m hutchpp_tr(A, \u001b[38;5;241m100\u001b[39m)\n\u001b[1;32m      2\u001b[0m A_better_est\n",
      "\u001b[0;31mNameError\u001b[0m: name 'A' is not defined"
     ]
    }
   ],
   "source": [
    "A_better_est = hutchpp_tr(A, 100)\n",
    "A_better_est"
   ]
  },
  {
   "cell_type": "code",
   "execution_count": null,
   "id": "e964d827-6d55-47ad-95de-1386409c84db",
   "metadata": {},
   "outputs": [],
   "source": []
  }
 ],
 "metadata": {
  "kernelspec": {
   "display_name": "hutch",
   "language": "python",
   "name": "hutch"
  },
  "language_info": {
   "codemirror_mode": {
    "name": "ipython",
    "version": 3
   },
   "file_extension": ".py",
   "mimetype": "text/x-python",
   "name": "python",
   "nbconvert_exporter": "python",
   "pygments_lexer": "ipython3",
   "version": "3.12.4"
  }
 },
 "nbformat": 4,
 "nbformat_minor": 5
}
